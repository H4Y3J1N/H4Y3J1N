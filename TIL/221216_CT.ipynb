{
 "cells": [
  {
   "cell_type": "markdown",
   "id": "1ab4b4c3",
   "metadata": {},
   "source": [
    "NxX 크기의 얼음 틀이 있습니다. 구멍이 뚫린 부분은 0, 칸막이 있는 부분은 1입니다.\n",
    "구멍있는 부분끼리 상하좌우로 붙어있으면 서로 연결된 것으로 간주.\n",
    "이때 얼음 틀 모양이 주어졌을 때 생성되는 총 아이스크림의 개수를 구하는 프로그램을 작성하세요.\n",
    "\n",
    "입력 : 첫번째 줄에 얼음 틀의 세로 길이 N과 가로길이 M이 주어집니다.\n",
    "두 번째 줄부터 n+1번째 줄까지 얼음틀의 형태가 주어집니다.\n",
    "이때 구멍이 뚫린 부분은 0, 그렇지 않은 부분은 1입니다.\n",
    "\n",
    "출력 : 한 번에 만들 수 있는 아이스크림 개수를 출력합니다."
   ]
  },
  {
   "cell_type": "code",
   "execution_count": null,
   "id": "a4dfb7f1",
   "metadata": {},
   "outputs": [],
   "source": [
    "dfs로 풀어야 하는 문제. 왜? 가장 깊은 곳까지 들어가며 어디까지 엮여 있는지 확인해야 하기 때문. \n",
    "그래서 재귀를 사용해 연결된 건 뭉탱이로 싹 엮어서 방문처리하고 카운트에 +1\n",
    "\n",
    "def dfs(x,y):\n",
    "    # 방문 예외처리. 얼음틀 경로를 벗어나면 바로 중단해 \n",
    "    if x <= -1 or x >=n or y<=-1 or y>=m:\n",
    "        return False \n",
    "    \n",
    "    if graph[x][y] == 0:\n",
    "        graph[x][y] = 1\n",
    "        dfs(x+1,y)\n",
    "        dfs(x-1,y)\n",
    "        dfs(x,y+1)\n",
    "        dfs(x,y-1)\n",
    "        return True\n",
    "    return False\n",
    "        \n",
    "\n",
    "n,m = map(int,input().split())\n",
    "graph = []\n",
    "\n",
    "#그래프 입력받기  \n",
    "for i in range(n):\n",
    "    graph.append(list(map(int,input())))\n",
    "    \n",
    "result = 0\n",
    "\n",
    "# graph에 맵 저장\n",
    "for i in range(n):\n",
    "    for j in range(m):\n",
    "        if dfs(i,j) == True:\n",
    "            result += 1\n",
    "\n",
    "print(result)"
   ]
  },
  {
   "cell_type": "markdown",
   "id": "6ca70f72",
   "metadata": {},
   "source": [
    "동빈이는 NxM 형태의 미로에 갇혔다.\n",
    "동빈이의 위치는 (1,1)이며, 미로의 출구는 (N,M)에 있고, 한번에 한칸 이동가능.\n",
    "이때 괴물이 있는 부분은 0. 괴물이 없는 부분은 1.\n",
    "탈출하기 위해 움직여야 하는 최소 칸의 개수를 구하세요.\n",
    "칸을 셀 때는 시작 칸과 마지막 칸을 모두 포함해서 계산합니다."
   ]
  },
  {
   "cell_type": "code",
   "execution_count": null,
   "id": "a94218e3",
   "metadata": {},
   "outputs": [],
   "source": [
    "import deque from collections\n",
    "\n",
    "def bfs(x,y):\n",
    "    queue = deque()\n",
    "    queue.append((x,y))  #들어온 것을 큐스택에 넣어서 꺼내야지!\n",
    "    \n",
    "    while queue:\n",
    "        x,y=queue.popleft()\n",
    "        for i in range(4):\n",
    "            nx = x + dx[i]\n",
    "            ny = y + dy[i]\n",
    "                \n",
    "        if nx<0 or xx>=n or y<1 or y>m :\n",
    "            continue\n",
    "        \n",
    "        if graph[nx][ny] == 1 :\n",
    "            graph[nx][ny] = graph[x][y]+1\n",
    "            queue.append((nx,ny))\n",
    "    return graph[n-1][m-1]\n",
    "\n",
    "\n",
    "n,m=map(int,input().split())\n",
    "graph = []\n",
    "\n",
    "for i in range(n):\n",
    "    graph.append(list(map(int, input())))\n",
    "    \n",
    "dx = [-1,1,0,0]\n",
    "dy = [0,0,-1,1]\n",
    "\n",
    "print(bfs(0,0))"
   ]
  },
  {
   "cell_type": "markdown",
   "id": "4aa981f8",
   "metadata": {},
   "source": [
    "### 정렬 알고리즘"
   ]
  },
  {
   "cell_type": "markdown",
   "id": "9b7c0bab",
   "metadata": {},
   "source": [
    "두 개의 배열, A과 B는 N개의 원소로 구성되어 있다.\n",
    "최대 K번의 바꿔치기 연산 수행 중, A배열의 합이 최대가 되도록 하고 싶다.\n",
    "N, K, A, B 의 정보가 주어졌을 때.\n",
    "최대 K번의 바꿔치기 연산을 수행하여 만들 수 있는 \n",
    "배열 A의 모든 원소의 합의 최댓값을 출력하라.\n",
    " \n",
    "입력 : 첫 번째 줄에 N, K가 공백을 기준으로 구분되어 입력된다.\n",
    "두 번째 줄에 배열 A의 원소들이 공백을 기준으로 구분되어 입력된다.\n",
    "세 번째 줄에 배열 B의 원소들이 공백을 기준으로 구분되어 입력된다.\n",
    "모든 원소는 10,000,000보다 작은 자연수다.\n",
    " \n",
    "출력 : 최대 K번의 바꿔치기 연산을 수행하여 만들 수 있는 배열 A의 모든 원소의 합의 최댓값을 출력하라 "
   ]
  },
  {
   "cell_type": "code",
   "execution_count": null,
   "id": "757f8b27",
   "metadata": {},
   "outputs": [],
   "source": [
    "n,k = map(int,input().split())\n",
    "a = list(map(int,input().split()))\n",
    "b = list(map(int,input().split()))\n",
    "\n",
    "a.sort()\n",
    "b.sort(reverse=False)\n",
    "\n",
    "for i in range(k):\n",
    "    if a[i] < b[i]:\n",
    "        a[i], b[i] = b[i], a[i]\n",
    "    else:\n",
    "        break\n",
    "print(sum(a))"
   ]
  }
 ],
 "metadata": {
  "kernelspec": {
   "display_name": "Python 3",
   "language": "python",
   "name": "python3"
  },
  "language_info": {
   "codemirror_mode": {
    "name": "ipython",
    "version": 3
   },
   "file_extension": ".py",
   "mimetype": "text/x-python",
   "name": "python",
   "nbconvert_exporter": "python",
   "pygments_lexer": "ipython3",
   "version": "3.9.6 (default, Sep 26 2022, 11:37:49) \n[Clang 14.0.0 (clang-1400.0.29.202)]"
  },
  "vscode": {
   "interpreter": {
    "hash": "31f2aee4e71d21fbe5cf8b01ff0e069b9275f58929596ceb00d14d90e3e16cd6"
   }
  }
 },
 "nbformat": 4,
 "nbformat_minor": 5
}
