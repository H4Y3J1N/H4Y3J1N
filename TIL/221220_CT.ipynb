{
 "cells": [
  {
   "cell_type": "markdown",
   "id": "9d853ded",
   "metadata": {},
   "source": [
    "#### 백준 18185번\n",
    "라면매니아 교준이네 집 주변에는 N개의 라면 공장이 있다. 각 공장은 1번부터 N번까지 차례대로 번호가 부여되어 있다. 교준이는 i번 공장에서 정확하게 Ai개의 라면을 구매하고자 한다(1 ≤ i ≤ N).    \n",
    "    \n",
    "교준이는 아래의 세 가지 방법으로 라면을 구매할 수 있다.    \n",
    "\n",
    "i번 공장에서 라면을 하나 구매한다(1 ≤ i ≤ N). 이 경우 비용은 3원이 든다.    \n",
    "i번 공장과 (i+1)번 공장에서 각각 라면을 하나씩 구매한다(1 ≤ i ≤ N-1). 이 경우 비용은 5원이 든다.    \n",
    "i번 공장과 (i+1)번 공장, (i+2)번 공장에서 각각 라면을 하나씩 구매한다(1 ≤ i ≤ N-2). 이 경우 비용은 7원이 든다.    \n",
    "최소의 비용으로 라면을 구매하고자 할 때, 교준이가 필요한 금액을 출력하는 프로그램을 작성하시오.\n",
    "\n",
    "입력\n",
    "첫 번째 줄에 라면 공장의 개수를 의미하는 자연수 N가 주어진다.    \n",
    "\n",
    "두번째 줄에 N개의 정수 A1, ···, AN가 사이에 공백을 두고 주어진다."
   ]
  },
  {
   "cell_type": "code",
   "execution_count": null,
   "id": "d4c4489f",
   "metadata": {},
   "outputs": [],
   "source": [
    "# 백준 18185번\n",
    "\n",
    "n = int(input())\n",
    "a = list(map(int,input().split())\n",
    "result = 0\n",
    "         \n",
    "for i in range(n-2):\n",
    "    if a[i+1]>a[i+2]:\n",
    "        m = min(a[i],a[i+1]-a[i+2])  # 왜 a[i+1] - a[i+2]를 하지? \n",
    "        result = m * 5\n",
    "        a[i] -= m\n",
    "        a[i+1] -= m\n",
    "    \n",
    "    if a[i]>0 and a[i+1]>0 and a[i+2]>0 :\n",
    "        m = min(a[i],a[i+1])\n",
    "        result += m * 7\n",
    "        a[i] -= m\n",
    "        a[i+1] -= m\n",
    "        a[i+2] -= m\n",
    "        \n",
    "    if a[i]>0 :\n",
    "        result += m * 3\n",
    "\n",
    "if a[-2]>0 and a[-1]>0 :\n",
    "    m = min(a[-2],a[-2])\n",
    "    result += m * 5\n",
    "    a[-2] -= m\n",
    "    a[-1] -= m\n",
    "\n",
    "if [a-2]>0 :\n",
    "    result += (a[-2] * 3)\n",
    "else :\n",
    "    result += (a[-1] * 3)\n",
    "print(result)"
   ]
  },
  {
   "cell_type": "code",
   "execution_count": null,
   "id": "1f3533f0",
   "metadata": {},
   "outputs": [],
   "source": [
    "# 백준 3109   그리디 dfs\n",
    "\n",
    "def dfs(x,y):\n",
    "    if c-1 == y :\n",
    "        return True\n",
    "    for dx in [-1,0,1]:\n",
    "        nx = dx + x\n",
    "        ny = dy +y\n",
    "        if 0<=nx<r and 0<=ay<c:\n",
    "            if board[nx][ny] != \"x\" and visited[nx][ny] == -1:\n",
    "                visited[nx][ny] = 1\n",
    "                if dfs(nx,ny):   # 재귀\n",
    "                    return True  # 최종적으로 dfs가 True를 반환한다면 answer를 1 증가\n",
    "    return False\n",
    "\n",
    "r, c = map(int,input().split())\n",
    "visited = [[-1 for _ in range(c)] for _ in range(r)]\n",
    "board = [list(input().strip()) for _ in range(r)]\n",
    "for i in range(r):\n",
    "    if dfs(i,0) == True:\n",
    "        answer += 1"
   ]
  },
  {
   "cell_type": "code",
   "execution_count": null,
   "id": "bbe6e845",
   "metadata": {},
   "outputs": [],
   "source": [
    "# 백준 1781번  그리디 bfs\n",
    "\n",
    "import heapq\n",
    "n = int(input())\n",
    "problems = []\n",
    "\n",
    "for i in range(n):\n",
    "    deadline, cup_noodle = map(int,read.)\n",
    "\n",
    "# 푸는중 "
   ]
  }
 ],
 "metadata": {
  "kernelspec": {
   "display_name": "Python 3 (ipykernel)",
   "language": "python",
   "name": "python3"
  },
  "language_info": {
   "codemirror_mode": {
    "name": "ipython",
    "version": 3
   },
   "file_extension": ".py",
   "mimetype": "text/x-python",
   "name": "python",
   "nbconvert_exporter": "python",
   "pygments_lexer": "ipython3",
   "version": "3.9.12"
  }
 },
 "nbformat": 4,
 "nbformat_minor": 5
}
