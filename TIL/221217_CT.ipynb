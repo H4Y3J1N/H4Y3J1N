{
 "cells": [
  {
   "cell_type": "markdown",
   "id": "16a3b4c2",
   "metadata": {},
   "source": [
    "####  이진 탐색 문제 \n",
    "절단기에 높이 H를 설정하면 줄지어진 떡을 한번에 절단합니다. 높이가 H인 떡은 위 부분이 잘릴 것이고, 낮은 떡은 잘리지 않습니다.\n",
    "손님이 왔을 때 요청한 총 길이가 M일 때 적어도 M만큼의 떡을 얻기 위해 설정할 수 있는 높이의 최댓값을 구하세요.\n",
    " \n",
    "입력 : 첫째 줄에 떡의 개수 N과 요청한 떡의 길이 M이 주어집니다.\n",
    " 둘째 줄에는 떡의 개별 노이가 주어집니다. 떡 높이의 총합은 항상 M 이상이므로, 손님은 필요한 양만큼 떡을 사갈 수 있습니다. \n",
    " \n",
    " 출력 : M만큼의 떡을 집에 가져가기 위해 절단기에 설정할 수 있는 높이의 최댓값을 출력합니다. "
   ]
  },
  {
   "cell_type": "code",
   "execution_count": null,
   "id": "ad4091da",
   "metadata": {},
   "outputs": [],
   "source": [
    "n,m = map(int,input().split())\n",
    "array = list(map(int,input().split()))\n",
    "\n",
    "start = 0\n",
    "end = max(array)\n",
    "h = 0\n",
    "\n",
    "while (start<=end) : \n",
    "    total = 0  #잘린 떡의 총 길이\n",
    "    mid = (start+end)//2\n",
    "    \n",
    "    # 떡 길이 하나씩을 순회하며\n",
    "    for x in array :\n",
    "        # 만약 그 떡의 길이가 커팅라인(중간지점)보다 크면\n",
    "        if x > mid:\n",
    "            total += x - mid  #잘라낸 떡 총길이 total에 저장\n",
    "            \n",
    "        if total < m :  # 자른 떡의 양이 원하는 거보다 부족하면 끝지점에서 -1로 커팅지점 옮기기\n",
    "            end = mid -  1\n",
    "        else :\n",
    "            h = mid\n",
    "            start = mid + 1\n",
    "print(h)  "
   ]
  },
  {
   "cell_type": "markdown",
   "id": "722402b1",
   "metadata": {},
   "source": [
    "n개의 원소를 포함한 수열이 오름차순으로 정렬되어 있습니다. 이때 이 수열에서 x가 등장하는 횟수를 계산하세요. 예를 들어 수열 {1,1,2,2,2,3}이 있을 때, x=2라면, 4를 출력합니다. !! 단, 이 문제는 시간 복잡도로 알고리즘을 설계하지 않으면 시간 초과 판정을 받습니다.\n",
    "\n",
    "입력 : 첫째 줄에 N과 x가 정수 형태로 공백으로 구분되어 입력됩니다. 둘째 줄에 N개의 원소가 정수 형태로 공백으로 구분되어 입력됩니다.\n",
    "\n",
    "출력 : 수열의 원소 중에서 값이 x인 원소의 개수를 출력합니다. 단, 값이 x인 원소가 하나도 없다면 -1을 출력합니다."
   ]
  },
  {
   "cell_type": "code",
   "execution_count": null,
   "id": "29356f9d",
   "metadata": {},
   "outputs": [],
   "source": [
    "from bisect import bisect_left, bisect_right\n",
    "\n",
    "# 값이 [left_value, right_value]인 데이터 개수를 반환하는 함수\n",
    "def count_by_range(array, left_value, right_value):\n",
    "    right_index = bisect_right(array, right_value)\n",
    "    left_index = bisect_left(array,left_value)\n",
    "    return right_value, left_value\n",
    "\n",
    "n,x = map(int,input().split())\n",
    "array = list(map(int,input().split()))\n",
    "count = count_by_range(array, x, x)\n",
    "\n",
    "if count == 0 :\n",
    "    print(-1)\n",
    "else :\n",
    "    print(count)"
   ]
  }
 ],
 "metadata": {
  "kernelspec": {
   "display_name": "Python 3 (ipykernel)",
   "language": "python",
   "name": "python3"
  },
  "language_info": {
   "codemirror_mode": {
    "name": "ipython",
    "version": 3
   },
   "file_extension": ".py",
   "mimetype": "text/x-python",
   "name": "python",
   "nbconvert_exporter": "python",
   "pygments_lexer": "ipython3",
   "version": "3.9.12"
  }
 },
 "nbformat": 4,
 "nbformat_minor": 5
}
