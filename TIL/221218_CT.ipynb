{
 "cells": [
  {
   "cell_type": "code",
   "execution_count": null,
   "id": "b96e95d0",
   "metadata": {},
   "outputs": [],
   "source": [
    "n,m = map(int,input().split())\n",
    "graph = []\n",
    "for i in range(n):\n",
    "    graph.append(map(int,input().split()))\n",
    "dx = [1,-1,0,0]\n",
    "dy = [0,0,-1,1]\n",
    "result = 0\n",
    "\n",
    "def dfs(x,y):\n",
    "    if x<= -1 or y<= -1 or x>n or y>m :\n",
    "        return False\n",
    "    if graph[x][y] == 0:\n",
    "        graph[x][y] = 1\n",
    "        dfs(x+1,y)\n",
    "        dfs(x-1,y)\n",
    "        dfs(x,y-1)\n",
    "        dfs(x,y+1)\n",
    "        return True\n",
    "    return False\n",
    "\n",
    "for i in range(n):\n",
    "    for j in range(m):\n",
    "        if dfs(i,j) == True:\n",
    "            result += 1"
   ]
  },
  {
   "cell_type": "code",
   "execution_count": null,
   "id": "fc880950",
   "metadata": {},
   "outputs": [],
   "source": [
    "from collections import deque \n",
    "n,m = map(int,input().split())\n",
    "graph = []\n",
    "for i in range(n):\n",
    "    graph.append(map(int,input().split()))\n",
    "x,y = 1,1\n",
    "dx = [1,-1,0,0]\n",
    "dy = [0,0,1,-1]\n",
    "result = 0\n",
    "\n",
    "def bfs(x,y):\n",
    "    deque = queue()\n",
    "    queue.append((x,y))\n",
    "    \n",
    "    while queue:\n",
    "        x,y = queue.popleft()\n",
    "        for i in range(4):\n",
    "            nx = x + dx[i]\n",
    "            ny = y + dy[i]\n",
    "            if nx>n or ny>m or nx<1 or ny<1:\n",
    "                continue\n",
    "            if graph[nx][ny] == 0:\n",
    "                continue\n",
    "            if graph[nx][ny] == 1:\n",
    "                graph[nx][ny] = graph[x][y]+1\n",
    "                queue.append(nx,ny)\n",
    "    return graph[n-1][m-1]\n",
    "\n",
    "print(bfs(5,5))"
   ]
  },
  {
   "cell_type": "code",
   "execution_count": null,
   "id": "a267dc96",
   "metadata": {},
   "outputs": [],
   "source": [
    "n,m = map(int,input().split())\n",
    "array = []\n",
    "result = 0\n",
    "start = 0\n",
    "end = max(array)\n",
    "\n",
    "while (start <= end) :\n",
    "    total = 0\n",
    "    mid = (start+end)//2\n",
    "    \n",
    "    for x in array:\n",
    "        if x > mid :\n",
    "            total += x - mid\n",
    "        if total < m :\n",
    "            end = mid-1\n",
    "        else : \n",
    "            result = mid\n",
    "            start = mid + 1\n",
    "print(result)"
   ]
  },
  {
   "cell_type": "code",
   "execution_count": null,
   "id": "1213a120",
   "metadata": {},
   "outputs": [],
   "source": [
    "from bisect import bisect_right, bisect_left\n",
    "array = list(map(int,input().split()))\n",
    "n,x = map(int,input().split())\n",
    "\n",
    "def count_by_range(array,bisect_right, bisect_left):\n",
    "    right_bisect = bisect_right(array,bisect_right)\n",
    "    left_bisect = bisect_left(array,bisect_left)\n",
    "    return right_bisect, left_bisect\n",
    "\n",
    "count = count_by_range(array,x, x)\n",
    "\n",
    "if count == 0 :\n",
    "    print(-1)\n",
    "else :\n",
    "    print(count)"
   ]
  }
 ],
 "metadata": {
  "kernelspec": {
   "display_name": "Python 3 (ipykernel)",
   "language": "python",
   "name": "python3"
  },
  "language_info": {
   "codemirror_mode": {
    "name": "ipython",
    "version": 3
   },
   "file_extension": ".py",
   "mimetype": "text/x-python",
   "name": "python",
   "nbconvert_exporter": "python",
   "pygments_lexer": "ipython3",
   "version": "3.9.12"
  }
 },
 "nbformat": 4,
 "nbformat_minor": 5
}
