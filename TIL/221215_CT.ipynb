{
 "cells": [
  {
   "cell_type": "markdown",
   "id": "ceae51dd",
   "metadata": {},
   "source": [
    "당신은 음식점 계산을 도와주는 점원입니다. 카운터에는 거스름돈으로 사용할 500원, 100원, 50, 10원짜리 동전이 무한히 존재한다고 가정합니다. 손님에게 거슬러 주어야 할 돈이 N원일 때 거슬러 주어야 할 동전의 최소 개수를 구하세요. 단, 거슬러 줘야 할 돈 N은 항상 10의 배수입니다."
   ]
  },
  {
   "cell_type": "code",
   "execution_count": null,
   "id": "22c7c561",
   "metadata": {},
   "outputs": [],
   "source": [
    "n = int(input())\n",
    "coin_type = [500,100,50,10] # 큰 단위의 화폐부터 차례대로 확인하기\n",
    "\n",
    "result = 0\n",
    "\n",
    "# for문을 사용해서 리스트 속 거슬러 줄 수 있는 금액을 순환한다.\n",
    "# 최소 개수를 구하는 것이므로, 리스트 순서를 잘 생각해 작성하면 된다.\n",
    "# 나눈 횟수마다 result에 +1 하고, n을 갱신한다.\n",
    "\n",
    "for coin in coin_type: #리스트 순환하며\n",
    "    result += n//coin  #최소동전 개수 = n을 coin으로 나눈 몫 . 해당 화폐로 거슬러 줄 수 있는 동전의 개수 세기\n",
    "    n %= coin  #한번 거슬러 주고 남은 금액 = n을 coin으로 나눈 나머지\n",
    "    \n",
    "print(result)"
   ]
  },
  {
   "cell_type": "markdown",
   "id": "2ce7cbcd",
   "metadata": {},
   "source": [
    "어떠한 수 N이 1이 될 때까지 다음의 두 과정 중 하나를 반복적으로 선택하여 수행하려고 합니다. 단, 두 번째 연산은 N이 K로 나누어 떨어질 때만 선택할 수 있습니다. \n",
    "\n",
    "1. N에서 1을 뺍니다\n",
    "2. N을 K로 나눕니다.\n",
    "\n",
    "예를 들어 N이 17, K가 4라고 가정합니다. 이때 1번의 과정을 한 번 수행하면 N은 16이 됩니다. 이후에 2번의 과정을 두 번 수행하면 N은 1이 됩니다. 결과적으로 이 경우 전체 과정을 실행한 횟수는 3이 됩니다. 이는 N을 1로 만드는 최소 횟수입니다.\n",
    "N과 K가 주어질 때, N이 1이 될 때까지 1번 혹은 2번의 과정을 수행해야 하는 최소 횟수를 구하는 프로그램을 작성하세요.\n",
    "\n",
    " 입력 조건 : 첫째 줄에 N과 K가 공백을 기준으로 해 각각 자연수로 주어진다\n",
    "\n",
    " 출력 조건 : 첫째 줄에 N이 1이 될 때까지 1번 혹은 2번의 과정을 수행해야 하는 횟수의 최솟값을 출력한다. "
   ]
  },
  {
   "cell_type": "code",
   "execution_count": null,
   "id": "207224ce",
   "metadata": {},
   "outputs": [],
   "source": [
    "n,k = map(int,input().split())\n",
    "result = 0\n",
    "\n",
    "while True:\n",
    "    target = k(n//k)  #나눌수잇는 최고로 큰수 지정\n",
    "    result += (n - target)  # 변수 새로 안쓰고 나머지 1씩 빼야하는건 그냥 동급으로 취급해 추가 \n",
    "    n = target  # 나눌수잇는 큰수만 n에 남김\n",
    "    if n<k :\n",
    "        break\n",
    "    result +=1  # 나뉜다고 생각하고 +1\n",
    "    n //= k     # 실제로 나눈 횟수를 n에 저장\n",
    "result += (n-1)    #### 왜 n-1인지 아직도 이해 안감 (빼는 횟수라서? 4>3>2>1)\n",
    "print(result)"
   ]
  },
  {
   "cell_type": "markdown",
   "id": "75884254",
   "metadata": {},
   "source": [
    "각 자리가 숫자(0부터 9)로만 이루어진 문자열 S가 주어졌을 때, 왼쪽부터 오른쪽으로 하나씩 모든 숫자를 확인하며 숫자 사이에 x 또는 + 연산자를 넣어 결과적으로 만들어질 수 있는 가장 큰 수를 구하는 프로그램을 작성하세요. 단, +보다 x를 먼저 계산하는 일반적인 방식과는 달리, 모든 연산은 왼쪽에서부터 순서대로 이루어진다고 합니다. \n",
    "\n",
    " 입력 조건 : 첫째 줄에 여러 개의 숫자로 구성된 하나의 문자열 S 가 주어집니다.\n",
    " \n",
    " 출력 조건 : 첫째 줄에 만들어질 수 있는 가장 큰 수를 출력합니다. "
   ]
  },
  {
   "cell_type": "code",
   "execution_count": null,
   "id": "30f119ae",
   "metadata": {},
   "outputs": [],
   "source": [
    "# 문자열의 0번째와 1번째 자리를 대조해서, 1보다 크면 곱하고 1과 같거나 작으면 더한다.\n",
    "# 결과에 0번째 인덱스를 할당하고, for문의 시작은 1부터 한다.\n",
    "# 숫자들이 1보다 크면 곱하고, 아니면 더하는 코드를 작성한다.\n",
    "\n",
    "s= input()\n",
    "result = int(s[0])\n",
    "\n",
    "for i in range(1,len(s))\n",
    "    num = int(s[i])\n",
    "    if num <= 1 or result<=1:\n",
    "        result += num\n",
    "    else:\n",
    "        result *= num\n",
    "\n",
    "print(result)\n"
   ]
  },
  {
   "cell_type": "markdown",
   "id": "3499ee87",
   "metadata": {},
   "source": [
    "한 마을에 모험가가 N명 있습니다. 모험가 길드에서는 N명의 모험가를 대상으로 ‘공포도’를 측정하는데, 동빈이는 모험가 그룹을 안전하게 구성하고자 공포도가 X인 모험가는 반드시 X명 이상으로 구성한 모험가 그룹에 참여해야 여행을 떠날 수 있도록 규정했습니다. N명의 모험가에 대한 정보가 주어졌을 때, 여행을 떠날 수 있는 그룹 수의 최댓값을 구하는 프로그램을 작성하세요.\n",
    " \n",
    "입력 조건 : 첫째 줄에 모험가의 수 N이 주어집니다. 둘째 줄에 각 모험가의 공포도의 값을 N이하의 자연수로 주며, 각 자연수는 공백으로 구분합니다.\n",
    " \n",
    "출력 조건 : 여행을 떠날 수 있는 그룹 수의 최댓값을 출력합니다."
   ]
  },
  {
   "cell_type": "code",
   "execution_count": null,
   "id": "514602be",
   "metadata": {},
   "outputs": [],
   "source": [
    "# 리스트 소트로 오름차순 정렬 \n",
    "\n",
    "n = int(input())\n",
    "adventure = list(map(int,input().split()))\n",
    "adventure.sort()\n",
    "group = 0  #그룹에 포함된 모험가 수\n",
    "result = 0 #총 그룹\n",
    "\n",
    "for i in adventure:\n",
    "    group += 1  # 그룹 명수를 계속 늘려나가고,\n",
    "    if group >= i:   #그룹 명수가 i와 같거나 커지면 \n",
    "        result += 1  # 그룹에 +1\n",
    "        group = 0  # 이후 초기화 \n",
    "print(result)"
   ]
  },
  {
   "cell_type": "markdown",
   "id": "892c6288",
   "metadata": {},
   "source": [
    "여행가 A는 N*N 크기의 정사각형 공간 위에 서 있습니다. 이 공간은 1x1 크기의 정사각형으로 나누어져 있습니다. 가장 왼쪽 위 좌표는 (1,1)이며, 가장 오른쪽 아래 좌표는 (N,N)에 해당합니다. 여행가 A는 상하좌우 방향으로 이동할 수 있으며, 시작 좌표는 항상 (1,1)입니다. 우리 앞에는 여행가 A가 이동할 계획이 적힌 계획서가 놓여 있습니다.\n",
    "계획서에는 하나의 줄에 띄어쓰기를 기준으로 하여 L R U D 중 하나의 문자가 반복적으로 적혀 있습니다.\n",
    "이때 NxN 크기를 벗어나는 움직임은 무시됩니다. \n",
    "\n",
    "입력 : 첫째 줄에 공간의 크기를 나타내는 N이 주어집니다. 둘째 줄에 여행가 A가 이동할 계획서 내용이 주어집니다. \n",
    " \n",
    "출력 : 첫째 줄에 여행가 A가 최종적으로 도착할 지점의 좌표 (X,Y)를 공백을 기준으로 구분하여 출력합니다."
   ]
  },
  {
   "cell_type": "code",
   "execution_count": null,
   "id": "c1074766",
   "metadata": {},
   "outputs": [],
   "source": [
    "n = int(input())\n",
    "plans = input().split()\n",
    "x,y = 1,1\n",
    "\n",
    "dx = [-1,1,0,0]\n",
    "dy = [0,0,1,-1]\n",
    "move = ['L','R','U','D']\n",
    "\n",
    "for plan in plans:\n",
    "    for i in range(move):\n",
    "        # 만약 무브의 인덱스에 속한 것이 plan과 같다면\n",
    "        if plan == move[i]:\n",
    "            nx = x + dx[i]\n",
    "            ny = y + dy[i]\n",
    "        if nx < 1 or ny<1 or nx>n ny>n:\n",
    "            continue\n",
    "        x,y = nx,ny\n",
    "print(x,y)\n",
    "\n",
    "\n",
    "# 놓친 점 1. 방향과 무브를 다 지정해 두고, 입력받은 각 움직임 계획 중에, 움직임 리스트의 인덱스 길이만큼을 다시 고려하며 대조."
   ]
  },
  {
   "cell_type": "markdown",
   "id": "db042015",
   "metadata": {},
   "source": [
    "정수 N이 입력되면 00시 00분 00초부터 N시 59분 59초까지의 모든 시각 중에서 3이 하나라도 들어가는 모든 경우의 수를 구하는 프로그램을 작성하세요. \n",
    "\n",
    "입력 : 첫째 줄에 정수 N이 입력됩니다\n",
    "\n",
    "출력 : 00시 00분 00초부터 N시 59분 59초까지의 모든 시각 중에서 3이 하나라도 포함되는 모든 경우의 수를 출력합니다."
   ]
  },
  {
   "cell_type": "code",
   "execution_count": null,
   "id": "e951f5e6",
   "metadata": {},
   "outputs": [],
   "source": [
    "n = int(input())\n",
    "result = 0\n",
    "for i in range(n+1):\n",
    "    for j in range(60):\n",
    "        for k in range(60):\n",
    "            if 3 is in str(i)+str(j)+str(k) :\n",
    "                result += 1\n",
    "print(result)"
   ]
  },
  {
   "cell_type": "markdown",
   "id": "bfb7b117",
   "metadata": {},
   "source": [
    "행복 왕국의 왕실 정원은 체스판과 같은 8x8 좌표 평면입니다. \n",
    "나이트는 L자 형태로만 이동할 수 있으며 정원 밖으로 나갈 수 없습니다.\n",
    "1. 수평으로 두칸 이동한 뒤 수직으로 한 칸 이동\n",
    "2. 수직으로 두칸 이동한 뒤 수평으로 한 칸 이동\n",
    "나이트의 위치가 주어졌을 때 나이트가 이동할 수 있는 경우의 수를 출력하는 프로그램을 작성하세요. 행 위치는 1~8, 열 위치는 a~h로 표현합니다.\n",
    "\n",
    "입력 : 첫째 줄에 8x8 좌표평면상에서 현재 나이트가 위치한 곳의 좌표를 나타내는 두 문자로 구성된 문자열이 입력된다. (ex. a1)\n",
    "\n",
    "출력 : 첫째 줄에 나이트가 이동할 수 있는 경우의 수를 출력하시오"
   ]
  },
  {
   "cell_type": "code",
   "execution_count": null,
   "id": "31a0be36",
   "metadata": {},
   "outputs": [],
   "source": [
    "data = input()\n",
    "row = data[1]\n",
    "col = int(ord(data[0])) - int(ord('a'))+1\n",
    "moves = [(-2,-1),(-2,1),(2,-1),(2,1),(1,2),(-1,2),(-1,2),(1,-2)]\n",
    "count = 0\n",
    "\n",
    "for i in range(8):\n",
    "    for move in moves:\n",
    "        next_row = row + move[0]\n",
    "        next_col = col + move[1]\n",
    "    \n",
    "    if next_row >= 1 and next_row <= 8 and next_col>=1 and next_col<=8:\n",
    "        count += 1\n",
    "        \n",
    "print(result)\n",
    "\n",
    "# 놓친 부분 1. row 와 col이 그 안에서 움직일수있다면 카운트 증가 "
   ]
  },
  {
   "cell_type": "markdown",
   "id": "486b0830",
   "metadata": {},
   "source": [
    "알파벳 대문자와 숫자(0~9)로만 구성된 문자열이 입력으로 주어집니다. 이때 모든 알파벳을 오름차순으로 정렬하여 이어서 출력한 뒤에, 그 뒤에 모든 숫자를 더한 값을 이어서 출력합니다.\n",
    "\n",
    "입력 : 첫째 줄에 하나의 문자열S가 주어집니다\n",
    "\n",
    "출력 : 첫째 줄에 정답 출력"
   ]
  },
  {
   "cell_type": "code",
   "execution_count": null,
   "id": "b1cd1332",
   "metadata": {},
   "outputs": [],
   "source": [
    "s = input()\n",
    "result=[]\n",
    "value = 0\n",
    "for i in s :\n",
    "    if i.isalpha():\n",
    "        result.append(i)\n",
    "    else:\n",
    "        value += int(i)\n",
    "\n",
    "result = result.sort()\n",
    "\n",
    "if value != 0 :\n",
    "    result.append(str(value))\n",
    "    \n",
    "print(''.join(result))\n",
    "\n",
    "\n",
    "# 놓친 부분 1. value값이 없다면 어펜드해서는 안 됨.  문자열 형식으로 최종 출력해야 하기에 ''.join  사용! "
   ]
  }
 ],
 "metadata": {
  "kernelspec": {
   "display_name": "Python 3",
   "language": "python",
   "name": "python3"
  },
  "language_info": {
   "codemirror_mode": {
    "name": "ipython",
    "version": 3
   },
   "file_extension": ".py",
   "mimetype": "text/x-python",
   "name": "python",
   "nbconvert_exporter": "python",
   "pygments_lexer": "ipython3",
   "version": "3.9.6 (default, Sep 26 2022, 11:37:49) \n[Clang 14.0.0 (clang-1400.0.29.202)]"
  },
  "vscode": {
   "interpreter": {
    "hash": "31f2aee4e71d21fbe5cf8b01ff0e069b9275f58929596ceb00d14d90e3e16cd6"
   }
  }
 },
 "nbformat": 4,
 "nbformat_minor": 5
}
